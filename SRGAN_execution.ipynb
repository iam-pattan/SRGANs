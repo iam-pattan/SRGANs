{
  "nbformat": 4,
  "nbformat_minor": 0,
  "metadata": {
    "colab": {
      "name": "SRGAN_execution.ipynb",
      "provenance": [],
      "collapsed_sections": [],
      "include_colab_link": true
    },
    "kernelspec": {
      "name": "python3",
      "display_name": "Python 3"
    },
    "accelerator": "GPU"
  },
  "cells": [
    {
      "cell_type": "markdown",
      "metadata": {
        "id": "view-in-github",
        "colab_type": "text"
      },
      "source": [
        "<a href=\"https://colab.research.google.com/github/iam-pattan/SRGANs/blob/main/SRGAN_execution.ipynb\" target=\"_parent\"><img src=\"https://colab.research.google.com/assets/colab-badge.svg\" alt=\"Open In Colab\"/></a>"
      ]
    },
    {
      "cell_type": "markdown",
      "metadata": {
        "id": "0dst2ofnLgJN"
      },
      "source": [
        "# **Welcome Colab Representation of Prosr**\n",
        "github : [Code](https://github.com/fperazzi/proSR)\n",
        "\n",
        "Tutorial : [video](https://youtu.be/Jt_jZouVCRU)\n"
      ]
    },
    {
      "cell_type": "markdown",
      "metadata": {
        "id": "hbNS4vepHV74"
      },
      "source": [
        "# **INSTALL DEPENDENCIES**"
      ]
    },
    {
      "cell_type": "code",
      "metadata": {
        "id": "lSbRffk5FaZa",
        "colab": {
          "base_uri": "https://localhost:8080/"
        },
        "outputId": "1f30c4e7-2d85-4673-d1dd-a4eff5c625c2"
      },
      "source": [
        "!pip install scikit-image cython\n",
        "\n",
        "# Install visdom\n",
        "!pip install visdom dominate \n",
        "\n",
        "# Install python dependencies\n",
        "!pip install easydict pillow"
      ],
      "execution_count": null,
      "outputs": [
        {
          "output_type": "stream",
          "text": [
            "Requirement already satisfied: scikit-image in /usr/local/lib/python3.7/dist-packages (0.16.2)\n",
            "Requirement already satisfied: cython in /usr/local/lib/python3.7/dist-packages (0.29.22)\n",
            "Requirement already satisfied: networkx>=2.0 in /usr/local/lib/python3.7/dist-packages (from scikit-image) (2.5)\n",
            "Requirement already satisfied: matplotlib!=3.0.0,>=2.0.0 in /usr/local/lib/python3.7/dist-packages (from scikit-image) (3.2.2)\n",
            "Requirement already satisfied: pillow>=4.3.0 in /usr/local/lib/python3.7/dist-packages (from scikit-image) (7.1.2)\n",
            "Requirement already satisfied: imageio>=2.3.0 in /usr/local/lib/python3.7/dist-packages (from scikit-image) (2.4.1)\n",
            "Requirement already satisfied: scipy>=0.19.0 in /usr/local/lib/python3.7/dist-packages (from scikit-image) (1.4.1)\n",
            "Requirement already satisfied: PyWavelets>=0.4.0 in /usr/local/lib/python3.7/dist-packages (from scikit-image) (1.1.1)\n",
            "Requirement already satisfied: decorator>=4.3.0 in /usr/local/lib/python3.7/dist-packages (from networkx>=2.0->scikit-image) (4.4.2)\n",
            "Requirement already satisfied: kiwisolver>=1.0.1 in /usr/local/lib/python3.7/dist-packages (from matplotlib!=3.0.0,>=2.0.0->scikit-image) (1.3.1)\n",
            "Requirement already satisfied: python-dateutil>=2.1 in /usr/local/lib/python3.7/dist-packages (from matplotlib!=3.0.0,>=2.0.0->scikit-image) (2.8.1)\n",
            "Requirement already satisfied: numpy>=1.11 in /usr/local/lib/python3.7/dist-packages (from matplotlib!=3.0.0,>=2.0.0->scikit-image) (1.19.5)\n",
            "Requirement already satisfied: cycler>=0.10 in /usr/local/lib/python3.7/dist-packages (from matplotlib!=3.0.0,>=2.0.0->scikit-image) (0.10.0)\n",
            "Requirement already satisfied: pyparsing!=2.0.4,!=2.1.2,!=2.1.6,>=2.0.1 in /usr/local/lib/python3.7/dist-packages (from matplotlib!=3.0.0,>=2.0.0->scikit-image) (2.4.7)\n",
            "Requirement already satisfied: six>=1.5 in /usr/local/lib/python3.7/dist-packages (from python-dateutil>=2.1->matplotlib!=3.0.0,>=2.0.0->scikit-image) (1.15.0)\n",
            "Collecting visdom\n",
            "\u001b[?25l  Downloading https://files.pythonhosted.org/packages/c9/75/e078f5a2e1df7e0d3044749089fc2823e62d029cc027ed8ae5d71fafcbdc/visdom-0.1.8.9.tar.gz (676kB)\n",
            "\u001b[K     |████████████████████████████████| 686kB 5.7MB/s \n",
            "\u001b[?25hCollecting dominate\n",
            "  Downloading https://files.pythonhosted.org/packages/ef/a8/4354f8122c39e35516a2708746d89db5e339c867abbd8e0179bccee4b7f9/dominate-2.6.0-py2.py3-none-any.whl\n",
            "Requirement already satisfied: numpy>=1.8 in /usr/local/lib/python3.7/dist-packages (from visdom) (1.19.5)\n",
            "Requirement already satisfied: scipy in /usr/local/lib/python3.7/dist-packages (from visdom) (1.4.1)\n",
            "Requirement already satisfied: requests in /usr/local/lib/python3.7/dist-packages (from visdom) (2.23.0)\n",
            "Requirement already satisfied: tornado in /usr/local/lib/python3.7/dist-packages (from visdom) (5.1.1)\n",
            "Requirement already satisfied: pyzmq in /usr/local/lib/python3.7/dist-packages (from visdom) (22.0.3)\n",
            "Requirement already satisfied: six in /usr/local/lib/python3.7/dist-packages (from visdom) (1.15.0)\n",
            "Collecting jsonpatch\n",
            "  Downloading https://files.pythonhosted.org/packages/a3/55/f7c93bae36d869292aedfbcbae8b091386194874f16390d680136edd2b28/jsonpatch-1.32-py2.py3-none-any.whl\n",
            "Collecting torchfile\n",
            "  Downloading https://files.pythonhosted.org/packages/91/af/5b305f86f2d218091af657ddb53f984ecbd9518ca9fe8ef4103a007252c9/torchfile-0.1.0.tar.gz\n",
            "Collecting websocket-client\n",
            "\u001b[?25l  Downloading https://files.pythonhosted.org/packages/08/33/80e0d4f60e84a1ddd9a03f340be1065a2a363c47ce65c4bd3bae65ce9631/websocket_client-0.58.0-py2.py3-none-any.whl (61kB)\n",
            "\u001b[K     |████████████████████████████████| 61kB 6.3MB/s \n",
            "\u001b[?25hRequirement already satisfied: pillow in /usr/local/lib/python3.7/dist-packages (from visdom) (7.1.2)\n",
            "Requirement already satisfied: urllib3!=1.25.0,!=1.25.1,<1.26,>=1.21.1 in /usr/local/lib/python3.7/dist-packages (from requests->visdom) (1.24.3)\n",
            "Requirement already satisfied: certifi>=2017.4.17 in /usr/local/lib/python3.7/dist-packages (from requests->visdom) (2020.12.5)\n",
            "Requirement already satisfied: idna<3,>=2.5 in /usr/local/lib/python3.7/dist-packages (from requests->visdom) (2.10)\n",
            "Requirement already satisfied: chardet<4,>=3.0.2 in /usr/local/lib/python3.7/dist-packages (from requests->visdom) (3.0.4)\n",
            "Collecting jsonpointer>=1.9\n",
            "  Downloading https://files.pythonhosted.org/packages/23/52/05f67532aa922e494c351344e0d9624a01f74f5dd8402fe0d1b563a6e6fc/jsonpointer-2.1-py2.py3-none-any.whl\n",
            "Building wheels for collected packages: visdom, torchfile\n",
            "  Building wheel for visdom (setup.py) ... \u001b[?25l\u001b[?25hdone\n",
            "  Created wheel for visdom: filename=visdom-0.1.8.9-cp37-none-any.whl size=655251 sha256=d9da769b1d9edb6de473922cb7311214a54dc82ca5b15812901d5812a460c793\n",
            "  Stored in directory: /root/.cache/pip/wheels/70/19/a7/6d589ed967f4dfefd33bc166d081257bd4ed0cb618dccfd62a\n",
            "  Building wheel for torchfile (setup.py) ... \u001b[?25l\u001b[?25hdone\n",
            "  Created wheel for torchfile: filename=torchfile-0.1.0-cp37-none-any.whl size=5713 sha256=e60c33521147ce7387d0145eef44ca6e1cc6be11aea1c56291ba37d5dd973f0c\n",
            "  Stored in directory: /root/.cache/pip/wheels/b1/c3/d6/9a1cc8f3a99a0fc1124cae20153f36af59a6e683daca0a0814\n",
            "Successfully built visdom torchfile\n",
            "Installing collected packages: jsonpointer, jsonpatch, torchfile, websocket-client, visdom, dominate\n",
            "Successfully installed dominate-2.6.0 jsonpatch-1.32 jsonpointer-2.1 torchfile-0.1.0 visdom-0.1.8.9 websocket-client-0.58.0\n",
            "Requirement already satisfied: easydict in /usr/local/lib/python3.7/dist-packages (1.9)\n",
            "Requirement already satisfied: pillow in /usr/local/lib/python3.7/dist-packages (7.1.2)\n"
          ],
          "name": "stdout"
        }
      ]
    },
    {
      "cell_type": "code",
      "metadata": {
        "id": "9sqB21G6FllK",
        "colab": {
          "base_uri": "https://localhost:8080/"
        },
        "outputId": "35b710cc-0181-4464-cfa8-3bbc1086c4f4"
      },
      "source": [
        "!git clone https://github.com/fperazzi/proSR"
      ],
      "execution_count": null,
      "outputs": [
        {
          "output_type": "stream",
          "text": [
            "Cloning into 'proSR'...\n",
            "remote: Enumerating objects: 23, done.\u001b[K\n",
            "remote: Counting objects: 100% (23/23), done.\u001b[K\n",
            "remote: Compressing objects: 100% (15/15), done.\u001b[K\n",
            "remote: Total 1048 (delta 7), reused 16 (delta 3), pack-reused 1025\u001b[K\n",
            "Receiving objects: 100% (1048/1048), 1.11 MiB | 5.13 MiB/s, done.\n",
            "Resolving deltas: 100% (621/621), done.\n"
          ],
          "name": "stdout"
        }
      ]
    },
    {
      "cell_type": "code",
      "metadata": {
        "id": "M57WSIr_Fpo8",
        "colab": {
          "base_uri": "https://localhost:8080/"
        },
        "outputId": "f4e1e325-936f-4499-cbce-dd0bbae4ada5"
      },
      "source": [
        "%cd proSR/"
      ],
      "execution_count": null,
      "outputs": [
        {
          "output_type": "stream",
          "text": [
            "/content/proSR\n"
          ],
          "name": "stdout"
        }
      ]
    },
    {
      "cell_type": "code",
      "metadata": {
        "id": "v6-sHbzIFmFN"
      },
      "source": [
        "!export PYTHONPATH=$PROJECT_ROOT/lib:$PYTHONPATH"
      ],
      "execution_count": null,
      "outputs": []
    },
    {
      "cell_type": "code",
      "metadata": {
        "id": "1U5BYYptFmIG",
        "colab": {
          "base_uri": "https://localhost:8080/"
        },
        "outputId": "b985e744-7ff8-4ee6-9973-df5531941a12"
      },
      "source": [
        "!pip3 install http://download.pytorch.org/whl/cu92/torch-0.4.1-cp36-cp36m-linux_x86_64.whl"
      ],
      "execution_count": null,
      "outputs": [
        {
          "output_type": "stream",
          "text": [
            "\u001b[31mERROR: torch-0.4.1-cp36-cp36m-linux_x86_64.whl is not a supported wheel on this platform.\u001b[0m\n"
          ],
          "name": "stdout"
        }
      ]
    },
    {
      "cell_type": "code",
      "metadata": {
        "colab": {
          "base_uri": "https://localhost:8080/"
        },
        "id": "dUBPJb4imOkH",
        "outputId": "c95fd6a7-9c21-42ef-8ac6-ee53d3a2cb6c"
      },
      "source": [
        "!pip install torch==0.4.1"
      ],
      "execution_count": null,
      "outputs": [
        {
          "output_type": "stream",
          "text": [
            "Collecting torch==0.4.1\n",
            "\u001b[?25l  Downloading https://files.pythonhosted.org/packages/a2/6f/60e77fe7a4b4e23808f1e4c6261dec2ea15abbfd91b0d791f107365f4f2b/torch-0.4.1-cp37-cp37m-manylinux1_x86_64.whl (519.5MB)\n",
            "\u001b[K     |████████████████████████████████| 519.5MB 32kB/s \n",
            "\u001b[31mERROR: torchtext 0.9.0 has requirement torch==1.8.0, but you'll have torch 0.4.1 which is incompatible.\u001b[0m\n",
            "\u001b[31mERROR: fastai 1.0.61 has requirement torch>=1.0.0, but you'll have torch 0.4.1 which is incompatible.\u001b[0m\n",
            "\u001b[?25hInstalling collected packages: torch\n",
            "  Found existing installation: torch 1.8.0+cu101\n",
            "    Uninstalling torch-1.8.0+cu101:\n",
            "      Successfully uninstalled torch-1.8.0+cu101\n",
            "Successfully installed torch-0.4.1\n"
          ],
          "name": "stdout"
        }
      ]
    },
    {
      "cell_type": "code",
      "metadata": {
        "id": "m7vpa8wSFmK-",
        "colab": {
          "base_uri": "https://localhost:8080/"
        },
        "outputId": "ebf82478-dd18-44b9-adf3-3ecb8130e3ab"
      },
      "source": [
        "!pip install torchvision==0.2.1"
      ],
      "execution_count": null,
      "outputs": [
        {
          "output_type": "stream",
          "text": [
            "Collecting torchvision==0.2.1\n",
            "\u001b[?25l  Downloading https://files.pythonhosted.org/packages/ca/0d/f00b2885711e08bd71242ebe7b96561e6f6d01fdb4b9dcf4d37e2e13c5e1/torchvision-0.2.1-py2.py3-none-any.whl (54kB)\n",
            "\r\u001b[K     |██████                          | 10kB 24.0MB/s eta 0:00:01\r\u001b[K     |████████████                    | 20kB 29.4MB/s eta 0:00:01\r\u001b[K     |██████████████████              | 30kB 33.6MB/s eta 0:00:01\r\u001b[K     |████████████████████████        | 40kB 35.6MB/s eta 0:00:01\r\u001b[K     |██████████████████████████████  | 51kB 37.7MB/s eta 0:00:01\r\u001b[K     |████████████████████████████████| 61kB 9.2MB/s \n",
            "\u001b[?25hRequirement already satisfied: torch in /usr/local/lib/python3.7/dist-packages (from torchvision==0.2.1) (1.8.0+cu101)\n",
            "Requirement already satisfied: pillow>=4.1.1 in /usr/local/lib/python3.7/dist-packages (from torchvision==0.2.1) (7.0.0)\n",
            "Requirement already satisfied: numpy in /usr/local/lib/python3.7/dist-packages (from torchvision==0.2.1) (1.19.5)\n",
            "Requirement already satisfied: six in /usr/local/lib/python3.7/dist-packages (from torchvision==0.2.1) (1.15.0)\n",
            "Requirement already satisfied: typing-extensions in /usr/local/lib/python3.7/dist-packages (from torch->torchvision==0.2.1) (3.7.4.3)\n",
            "Installing collected packages: torchvision\n",
            "  Found existing installation: torchvision 0.9.0+cu101\n",
            "    Uninstalling torchvision-0.9.0+cu101:\n",
            "      Successfully uninstalled torchvision-0.9.0+cu101\n",
            "Successfully installed torchvision-0.2.1\n"
          ],
          "name": "stdout"
        }
      ]
    },
    {
      "cell_type": "code",
      "metadata": {
        "id": "KE-hIw5VFmP4",
        "colab": {
          "base_uri": "https://localhost:8080/"
        },
        "outputId": "12c193cd-310a-4dc2-e009-40e3ccce95f3"
      },
      "source": [
        "!python -m pip install Pillow==6.1"
      ],
      "execution_count": null,
      "outputs": [
        {
          "output_type": "stream",
          "text": [
            "Collecting Pillow==6.1\n",
            "\u001b[?25l  Downloading https://files.pythonhosted.org/packages/a4/da/2bd281c875686230eabc13d20ab590ea617563b0e746abfb0698c4d5b645/Pillow-6.1.0-cp37-cp37m-manylinux1_x86_64.whl (2.1MB)\n",
            "\r\u001b[K     |▏                               | 10kB 24.3MB/s eta 0:00:01\r\u001b[K     |▎                               | 20kB 31.8MB/s eta 0:00:01\r\u001b[K     |▌                               | 30kB 21.4MB/s eta 0:00:01\r\u001b[K     |▋                               | 40kB 25.0MB/s eta 0:00:01\r\u001b[K     |▉                               | 51kB 26.5MB/s eta 0:00:01\r\u001b[K     |█                               | 61kB 29.2MB/s eta 0:00:01\r\u001b[K     |█▏                              | 71kB 19.5MB/s eta 0:00:01\r\u001b[K     |█▎                              | 81kB 20.7MB/s eta 0:00:01\r\u001b[K     |█▍                              | 92kB 19.2MB/s eta 0:00:01\r\u001b[K     |█▋                              | 102kB 19.2MB/s eta 0:00:01\r\u001b[K     |█▊                              | 112kB 19.2MB/s eta 0:00:01\r\u001b[K     |██                              | 122kB 19.2MB/s eta 0:00:01\r\u001b[K     |██                              | 133kB 19.2MB/s eta 0:00:01\r\u001b[K     |██▎                             | 143kB 19.2MB/s eta 0:00:01\r\u001b[K     |██▍                             | 153kB 19.2MB/s eta 0:00:01\r\u001b[K     |██▌                             | 163kB 19.2MB/s eta 0:00:01\r\u001b[K     |██▊                             | 174kB 19.2MB/s eta 0:00:01\r\u001b[K     |██▉                             | 184kB 19.2MB/s eta 0:00:01\r\u001b[K     |███                             | 194kB 19.2MB/s eta 0:00:01\r\u001b[K     |███▏                            | 204kB 19.2MB/s eta 0:00:01\r\u001b[K     |███▍                            | 215kB 19.2MB/s eta 0:00:01\r\u001b[K     |███▌                            | 225kB 19.2MB/s eta 0:00:01\r\u001b[K     |███▋                            | 235kB 19.2MB/s eta 0:00:01\r\u001b[K     |███▉                            | 245kB 19.2MB/s eta 0:00:01\r\u001b[K     |████                            | 256kB 19.2MB/s eta 0:00:01\r\u001b[K     |████▏                           | 266kB 19.2MB/s eta 0:00:01\r\u001b[K     |████▎                           | 276kB 19.2MB/s eta 0:00:01\r\u001b[K     |████▌                           | 286kB 19.2MB/s eta 0:00:01\r\u001b[K     |████▋                           | 296kB 19.2MB/s eta 0:00:01\r\u001b[K     |████▊                           | 307kB 19.2MB/s eta 0:00:01\r\u001b[K     |█████                           | 317kB 19.2MB/s eta 0:00:01\r\u001b[K     |█████                           | 327kB 19.2MB/s eta 0:00:01\r\u001b[K     |█████▎                          | 337kB 19.2MB/s eta 0:00:01\r\u001b[K     |█████▍                          | 348kB 19.2MB/s eta 0:00:01\r\u001b[K     |█████▋                          | 358kB 19.2MB/s eta 0:00:01\r\u001b[K     |█████▊                          | 368kB 19.2MB/s eta 0:00:01\r\u001b[K     |█████▉                          | 378kB 19.2MB/s eta 0:00:01\r\u001b[K     |██████                          | 389kB 19.2MB/s eta 0:00:01\r\u001b[K     |██████▏                         | 399kB 19.2MB/s eta 0:00:01\r\u001b[K     |██████▍                         | 409kB 19.2MB/s eta 0:00:01\r\u001b[K     |██████▌                         | 419kB 19.2MB/s eta 0:00:01\r\u001b[K     |██████▊                         | 430kB 19.2MB/s eta 0:00:01\r\u001b[K     |██████▉                         | 440kB 19.2MB/s eta 0:00:01\r\u001b[K     |███████                         | 450kB 19.2MB/s eta 0:00:01\r\u001b[K     |███████▏                        | 460kB 19.2MB/s eta 0:00:01\r\u001b[K     |███████▎                        | 471kB 19.2MB/s eta 0:00:01\r\u001b[K     |███████▌                        | 481kB 19.2MB/s eta 0:00:01\r\u001b[K     |███████▋                        | 491kB 19.2MB/s eta 0:00:01\r\u001b[K     |███████▉                        | 501kB 19.2MB/s eta 0:00:01\r\u001b[K     |████████                        | 512kB 19.2MB/s eta 0:00:01\r\u001b[K     |████████▏                       | 522kB 19.2MB/s eta 0:00:01\r\u001b[K     |████████▎                       | 532kB 19.2MB/s eta 0:00:01\r\u001b[K     |████████▍                       | 542kB 19.2MB/s eta 0:00:01\r\u001b[K     |████████▋                       | 552kB 19.2MB/s eta 0:00:01\r\u001b[K     |████████▊                       | 563kB 19.2MB/s eta 0:00:01\r\u001b[K     |█████████                       | 573kB 19.2MB/s eta 0:00:01\r\u001b[K     |█████████                       | 583kB 19.2MB/s eta 0:00:01\r\u001b[K     |█████████▎                      | 593kB 19.2MB/s eta 0:00:01\r\u001b[K     |█████████▍                      | 604kB 19.2MB/s eta 0:00:01\r\u001b[K     |█████████▌                      | 614kB 19.2MB/s eta 0:00:01\r\u001b[K     |█████████▊                      | 624kB 19.2MB/s eta 0:00:01\r\u001b[K     |█████████▉                      | 634kB 19.2MB/s eta 0:00:01\r\u001b[K     |██████████                      | 645kB 19.2MB/s eta 0:00:01\r\u001b[K     |██████████▏                     | 655kB 19.2MB/s eta 0:00:01\r\u001b[K     |██████████▍                     | 665kB 19.2MB/s eta 0:00:01\r\u001b[K     |██████████▌                     | 675kB 19.2MB/s eta 0:00:01\r\u001b[K     |██████████▋                     | 686kB 19.2MB/s eta 0:00:01\r\u001b[K     |██████████▉                     | 696kB 19.2MB/s eta 0:00:01\r\u001b[K     |███████████                     | 706kB 19.2MB/s eta 0:00:01\r\u001b[K     |███████████▏                    | 716kB 19.2MB/s eta 0:00:01\r\u001b[K     |███████████▎                    | 727kB 19.2MB/s eta 0:00:01\r\u001b[K     |███████████▌                    | 737kB 19.2MB/s eta 0:00:01\r\u001b[K     |███████████▋                    | 747kB 19.2MB/s eta 0:00:01\r\u001b[K     |███████████▊                    | 757kB 19.2MB/s eta 0:00:01\r\u001b[K     |████████████                    | 768kB 19.2MB/s eta 0:00:01\r\u001b[K     |████████████                    | 778kB 19.2MB/s eta 0:00:01\r\u001b[K     |████████████▎                   | 788kB 19.2MB/s eta 0:00:01\r\u001b[K     |████████████▍                   | 798kB 19.2MB/s eta 0:00:01\r\u001b[K     |████████████▋                   | 808kB 19.2MB/s eta 0:00:01\r\u001b[K     |████████████▊                   | 819kB 19.2MB/s eta 0:00:01\r\u001b[K     |████████████▉                   | 829kB 19.2MB/s eta 0:00:01\r\u001b[K     |█████████████                   | 839kB 19.2MB/s eta 0:00:01\r\u001b[K     |█████████████▏                  | 849kB 19.2MB/s eta 0:00:01\r\u001b[K     |█████████████▍                  | 860kB 19.2MB/s eta 0:00:01\r\u001b[K     |█████████████▌                  | 870kB 19.2MB/s eta 0:00:01\r\u001b[K     |█████████████▊                  | 880kB 19.2MB/s eta 0:00:01\r\u001b[K     |█████████████▉                  | 890kB 19.2MB/s eta 0:00:01\r\u001b[K     |██████████████                  | 901kB 19.2MB/s eta 0:00:01\r\u001b[K     |██████████████▏                 | 911kB 19.2MB/s eta 0:00:01\r\u001b[K     |██████████████▎                 | 921kB 19.2MB/s eta 0:00:01\r\u001b[K     |██████████████▌                 | 931kB 19.2MB/s eta 0:00:01\r\u001b[K     |██████████████▋                 | 942kB 19.2MB/s eta 0:00:01\r\u001b[K     |██████████████▉                 | 952kB 19.2MB/s eta 0:00:01\r\u001b[K     |███████████████                 | 962kB 19.2MB/s eta 0:00:01\r\u001b[K     |███████████████▏                | 972kB 19.2MB/s eta 0:00:01\r\u001b[K     |███████████████▎                | 983kB 19.2MB/s eta 0:00:01\r\u001b[K     |███████████████▍                | 993kB 19.2MB/s eta 0:00:01\r\u001b[K     |███████████████▋                | 1.0MB 19.2MB/s eta 0:00:01\r\u001b[K     |███████████████▊                | 1.0MB 19.2MB/s eta 0:00:01\r\u001b[K     |████████████████                | 1.0MB 19.2MB/s eta 0:00:01\r\u001b[K     |████████████████                | 1.0MB 19.2MB/s eta 0:00:01\r\u001b[K     |████████████████▎               | 1.0MB 19.2MB/s eta 0:00:01\r\u001b[K     |████████████████▍               | 1.1MB 19.2MB/s eta 0:00:01\r\u001b[K     |████████████████▌               | 1.1MB 19.2MB/s eta 0:00:01\r\u001b[K     |████████████████▊               | 1.1MB 19.2MB/s eta 0:00:01\r\u001b[K     |████████████████▉               | 1.1MB 19.2MB/s eta 0:00:01\r\u001b[K     |█████████████████               | 1.1MB 19.2MB/s eta 0:00:01\r\u001b[K     |█████████████████▏              | 1.1MB 19.2MB/s eta 0:00:01\r\u001b[K     |█████████████████▍              | 1.1MB 19.2MB/s eta 0:00:01\r\u001b[K     |█████████████████▌              | 1.1MB 19.2MB/s eta 0:00:01\r\u001b[K     |█████████████████▋              | 1.1MB 19.2MB/s eta 0:00:01\r\u001b[K     |█████████████████▉              | 1.1MB 19.2MB/s eta 0:00:01\r\u001b[K     |██████████████████              | 1.2MB 19.2MB/s eta 0:00:01\r\u001b[K     |██████████████████▏             | 1.2MB 19.2MB/s eta 0:00:01\r\u001b[K     |██████████████████▎             | 1.2MB 19.2MB/s eta 0:00:01\r\u001b[K     |██████████████████▌             | 1.2MB 19.2MB/s eta 0:00:01\r\u001b[K     |██████████████████▋             | 1.2MB 19.2MB/s eta 0:00:01\r\u001b[K     |██████████████████▊             | 1.2MB 19.2MB/s eta 0:00:01\r\u001b[K     |███████████████████             | 1.2MB 19.2MB/s eta 0:00:01\r\u001b[K     |███████████████████             | 1.2MB 19.2MB/s eta 0:00:01\r\u001b[K     |███████████████████▎            | 1.2MB 19.2MB/s eta 0:00:01\r\u001b[K     |███████████████████▍            | 1.2MB 19.2MB/s eta 0:00:01\r\u001b[K     |███████████████████▋            | 1.3MB 19.2MB/s eta 0:00:01\r\u001b[K     |███████████████████▊            | 1.3MB 19.2MB/s eta 0:00:01\r\u001b[K     |███████████████████▉            | 1.3MB 19.2MB/s eta 0:00:01\r\u001b[K     |████████████████████            | 1.3MB 19.2MB/s eta 0:00:01\r\u001b[K     |████████████████████▏           | 1.3MB 19.2MB/s eta 0:00:01\r\u001b[K     |████████████████████▍           | 1.3MB 19.2MB/s eta 0:00:01\r\u001b[K     |████████████████████▌           | 1.3MB 19.2MB/s eta 0:00:01\r\u001b[K     |████████████████████▊           | 1.3MB 19.2MB/s eta 0:00:01\r\u001b[K     |████████████████████▉           | 1.3MB 19.2MB/s eta 0:00:01\r\u001b[K     |█████████████████████           | 1.4MB 19.2MB/s eta 0:00:01\r\u001b[K     |█████████████████████▏          | 1.4MB 19.2MB/s eta 0:00:01\r\u001b[K     |█████████████████████▎          | 1.4MB 19.2MB/s eta 0:00:01\r\u001b[K     |█████████████████████▌          | 1.4MB 19.2MB/s eta 0:00:01\r\u001b[K     |█████████████████████▋          | 1.4MB 19.2MB/s eta 0:00:01\r\u001b[K     |█████████████████████▉          | 1.4MB 19.2MB/s eta 0:00:01\r\u001b[K     |██████████████████████          | 1.4MB 19.2MB/s eta 0:00:01\r\u001b[K     |██████████████████████▏         | 1.4MB 19.2MB/s eta 0:00:01\r\u001b[K     |██████████████████████▎         | 1.4MB 19.2MB/s eta 0:00:01\r\u001b[K     |██████████████████████▍         | 1.4MB 19.2MB/s eta 0:00:01\r\u001b[K     |██████████████████████▋         | 1.5MB 19.2MB/s eta 0:00:01\r\u001b[K     |██████████████████████▊         | 1.5MB 19.2MB/s eta 0:00:01\r\u001b[K     |███████████████████████         | 1.5MB 19.2MB/s eta 0:00:01\r\u001b[K     |███████████████████████         | 1.5MB 19.2MB/s eta 0:00:01\r\u001b[K     |███████████████████████▎        | 1.5MB 19.2MB/s eta 0:00:01\r\u001b[K     |███████████████████████▍        | 1.5MB 19.2MB/s eta 0:00:01\r\u001b[K     |███████████████████████▌        | 1.5MB 19.2MB/s eta 0:00:01\r\u001b[K     |███████████████████████▊        | 1.5MB 19.2MB/s eta 0:00:01\r\u001b[K     |███████████████████████▉        | 1.5MB 19.2MB/s eta 0:00:01\r\u001b[K     |████████████████████████        | 1.5MB 19.2MB/s eta 0:00:01\r\u001b[K     |████████████████████████▏       | 1.6MB 19.2MB/s eta 0:00:01\r\u001b[K     |████████████████████████▍       | 1.6MB 19.2MB/s eta 0:00:01\r\u001b[K     |████████████████████████▌       | 1.6MB 19.2MB/s eta 0:00:01\r\u001b[K     |████████████████████████▋       | 1.6MB 19.2MB/s eta 0:00:01\r\u001b[K     |████████████████████████▉       | 1.6MB 19.2MB/s eta 0:00:01\r\u001b[K     |█████████████████████████       | 1.6MB 19.2MB/s eta 0:00:01\r\u001b[K     |█████████████████████████▏      | 1.6MB 19.2MB/s eta 0:00:01\r\u001b[K     |█████████████████████████▎      | 1.6MB 19.2MB/s eta 0:00:01\r\u001b[K     |█████████████████████████▌      | 1.6MB 19.2MB/s eta 0:00:01\r\u001b[K     |█████████████████████████▋      | 1.6MB 19.2MB/s eta 0:00:01\r\u001b[K     |█████████████████████████▊      | 1.7MB 19.2MB/s eta 0:00:01\r\u001b[K     |██████████████████████████      | 1.7MB 19.2MB/s eta 0:00:01\r\u001b[K     |██████████████████████████      | 1.7MB 19.2MB/s eta 0:00:01\r\u001b[K     |██████████████████████████▎     | 1.7MB 19.2MB/s eta 0:00:01\r\u001b[K     |██████████████████████████▍     | 1.7MB 19.2MB/s eta 0:00:01\r\u001b[K     |██████████████████████████▋     | 1.7MB 19.2MB/s eta 0:00:01\r\u001b[K     |██████████████████████████▊     | 1.7MB 19.2MB/s eta 0:00:01\r\u001b[K     |██████████████████████████▉     | 1.7MB 19.2MB/s eta 0:00:01\r\u001b[K     |███████████████████████████     | 1.7MB 19.2MB/s eta 0:00:01\r\u001b[K     |███████████████████████████▏    | 1.8MB 19.2MB/s eta 0:00:01\r\u001b[K     |███████████████████████████▍    | 1.8MB 19.2MB/s eta 0:00:01\r\u001b[K     |███████████████████████████▌    | 1.8MB 19.2MB/s eta 0:00:01\r\u001b[K     |███████████████████████████▊    | 1.8MB 19.2MB/s eta 0:00:01\r\u001b[K     |███████████████████████████▉    | 1.8MB 19.2MB/s eta 0:00:01\r\u001b[K     |████████████████████████████    | 1.8MB 19.2MB/s eta 0:00:01\r\u001b[K     |████████████████████████████▏   | 1.8MB 19.2MB/s eta 0:00:01\r\u001b[K     |████████████████████████████▎   | 1.8MB 19.2MB/s eta 0:00:01\r\u001b[K     |████████████████████████████▌   | 1.8MB 19.2MB/s eta 0:00:01\r\u001b[K     |████████████████████████████▋   | 1.8MB 19.2MB/s eta 0:00:01\r\u001b[K     |████████████████████████████▉   | 1.9MB 19.2MB/s eta 0:00:01\r\u001b[K     |█████████████████████████████   | 1.9MB 19.2MB/s eta 0:00:01\r\u001b[K     |█████████████████████████████   | 1.9MB 19.2MB/s eta 0:00:01\r\u001b[K     |█████████████████████████████▎  | 1.9MB 19.2MB/s eta 0:00:01\r\u001b[K     |█████████████████████████████▍  | 1.9MB 19.2MB/s eta 0:00:01\r\u001b[K     |█████████████████████████████▋  | 1.9MB 19.2MB/s eta 0:00:01\r\u001b[K     |█████████████████████████████▊  | 1.9MB 19.2MB/s eta 0:00:01\r\u001b[K     |██████████████████████████████  | 1.9MB 19.2MB/s eta 0:00:01\r\u001b[K     |██████████████████████████████  | 1.9MB 19.2MB/s eta 0:00:01\r\u001b[K     |██████████████████████████████▎ | 1.9MB 19.2MB/s eta 0:00:01\r\u001b[K     |██████████████████████████████▍ | 2.0MB 19.2MB/s eta 0:00:01\r\u001b[K     |██████████████████████████████▌ | 2.0MB 19.2MB/s eta 0:00:01\r\u001b[K     |██████████████████████████████▊ | 2.0MB 19.2MB/s eta 0:00:01\r\u001b[K     |██████████████████████████████▉ | 2.0MB 19.2MB/s eta 0:00:01\r\u001b[K     |███████████████████████████████ | 2.0MB 19.2MB/s eta 0:00:01\r\u001b[K     |███████████████████████████████▏| 2.0MB 19.2MB/s eta 0:00:01\r\u001b[K     |███████████████████████████████▍| 2.0MB 19.2MB/s eta 0:00:01\r\u001b[K     |███████████████████████████████▌| 2.0MB 19.2MB/s eta 0:00:01\r\u001b[K     |███████████████████████████████▋| 2.0MB 19.2MB/s eta 0:00:01\r\u001b[K     |███████████████████████████████▉| 2.0MB 19.2MB/s eta 0:00:01\r\u001b[K     |████████████████████████████████| 2.1MB 19.2MB/s eta 0:00:01\r\u001b[K     |████████████████████████████████| 2.1MB 19.2MB/s \n",
            "\u001b[31mERROR: albumentations 0.1.12 has requirement imgaug<0.2.7,>=0.2.5, but you'll have imgaug 0.2.9 which is incompatible.\u001b[0m\n",
            "\u001b[?25hInstalling collected packages: Pillow\n",
            "  Found existing installation: Pillow 7.0.0\n",
            "    Uninstalling Pillow-7.0.0:\n",
            "      Successfully uninstalled Pillow-7.0.0\n",
            "Successfully installed Pillow-6.1.0\n"
          ],
          "name": "stdout"
        }
      ]
    },
    {
      "cell_type": "markdown",
      "metadata": {
        "id": "zYTJsNaqHbvT"
      },
      "source": [
        "# **DOWNLOAD MODEL**"
      ]
    },
    {
      "cell_type": "code",
      "metadata": {
        "colab": {
          "base_uri": "https://localhost:8080/"
        },
        "id": "1VZhcEdme2aX",
        "outputId": "33cf1446-80b0-4a1e-aba2-5a7617904164"
      },
      "source": [
        "!wget 'http://pngimg.com/uploads/tom_and_jerry/small/tom_and_jerry_PNG72.png'"
      ],
      "execution_count": null,
      "outputs": [
        {
          "output_type": "stream",
          "text": [
            "--2021-03-14 11:45:43--  http://pngimg.com/uploads/tom_and_jerry/small/tom_and_jerry_PNG72.png\n",
            "Resolving pngimg.com (pngimg.com)... 172.67.75.130, 104.26.5.108, 104.26.4.108, ...\n",
            "Connecting to pngimg.com (pngimg.com)|172.67.75.130|:80... connected.\n",
            "HTTP request sent, awaiting response... 200 OK\n",
            "Length: 24501 (24K) [image/png]\n",
            "Saving to: ‘tom_and_jerry_PNG72.png’\n",
            "\n",
            "\rtom_and_jerry_PNG72   0%[                    ]       0  --.-KB/s               \rtom_and_jerry_PNG72 100%[===================>]  23.93K  --.-KB/s    in 0s      \n",
            "\n",
            "2021-03-14 11:45:43 (499 MB/s) - ‘tom_and_jerry_PNG72.png’ saved [24501/24501]\n",
            "\n"
          ],
          "name": "stdout"
        }
      ]
    },
    {
      "cell_type": "markdown",
      "metadata": {
        "id": "DjGqEKe2JhzT"
      },
      "source": [
        "Download Full Sized Model"
      ]
    },
    {
      "cell_type": "code",
      "metadata": {
        "id": "_lRdAjA_GQma",
        "colab": {
          "base_uri": "https://localhost:8080/"
        },
        "outputId": "0609067f-03bb-4575-8575-2ddf69951609"
      },
      "source": [
        "!wget -nc https://www.dropbox.com/s/3fjp5dd70wuuixl/proSR.zip -O proSR.zip\n",
        "!unzip -j proSR.zip -d data/checkpoints\n",
        "!rm proSR.zip"
      ],
      "execution_count": null,
      "outputs": [
        {
          "output_type": "stream",
          "text": [
            "--2021-03-14 11:45:46--  https://www.dropbox.com/s/3fjp5dd70wuuixl/proSR.zip\n",
            "Resolving www.dropbox.com (www.dropbox.com)... 162.125.6.18, 2620:100:601c:18::a27d:612\n",
            "Connecting to www.dropbox.com (www.dropbox.com)|162.125.6.18|:443... connected.\n",
            "HTTP request sent, awaiting response... 301 Moved Permanently\n",
            "Location: /s/raw/3fjp5dd70wuuixl/proSR.zip [following]\n",
            "--2021-03-14 11:45:46--  https://www.dropbox.com/s/raw/3fjp5dd70wuuixl/proSR.zip\n",
            "Reusing existing connection to www.dropbox.com:443.\n",
            "HTTP request sent, awaiting response... 302 Found\n",
            "Location: https://uca29d031e1481ee254372db8774.dl.dropboxusercontent.com/cd/0/inline/BKo5BSpgHI-GjrOGjazt4S8ot3kynTbEIdtv9QuQ3dNmnGdNMKn3IJ-xkEiABnwAsLnI9czCNISEZpOGTsUsbAVnD3uGVq9Ufdh0-1dJDkt1RXh0HiVH-nCWsk-MFaTYGtEhBArTWqA1IlWXFzksQkII/file# [following]\n",
            "--2021-03-14 11:45:47--  https://uca29d031e1481ee254372db8774.dl.dropboxusercontent.com/cd/0/inline/BKo5BSpgHI-GjrOGjazt4S8ot3kynTbEIdtv9QuQ3dNmnGdNMKn3IJ-xkEiABnwAsLnI9czCNISEZpOGTsUsbAVnD3uGVq9Ufdh0-1dJDkt1RXh0HiVH-nCWsk-MFaTYGtEhBArTWqA1IlWXFzksQkII/file\n",
            "Resolving uca29d031e1481ee254372db8774.dl.dropboxusercontent.com (uca29d031e1481ee254372db8774.dl.dropboxusercontent.com)... 162.125.6.15, 2620:100:6019:15::a27d:40f\n",
            "Connecting to uca29d031e1481ee254372db8774.dl.dropboxusercontent.com (uca29d031e1481ee254372db8774.dl.dropboxusercontent.com)|162.125.6.15|:443... connected.\n",
            "HTTP request sent, awaiting response... 302 Found\n",
            "Location: /cd/0/inline2/BKraWVZmccM5s0qeDestLaNYkl6KxfK0HS7_ddl8_cUxcXXot94SSL42VwSv7_vRx07zB4maSn1oQz1dBnlZvBNuze_BTVKUqJQSGCnExDqd6Ov8v0keIlj2_B_U1GKqzchqDsEoLbbikg1o4m_GLjCLVFrmZL8Ysrpqh0KufFZcJlTx8hkiji05UN8Il0g-fcUdJ_alCjuwZjSHq2rckb4ppHNE6Qg2eGn6EFnepYm0vnwOlo8rj23n-ITDl6aHia1irKnBrn1dYJBxQq-ClYK_cUdM5EUsAzobqKKvcV33BgRSEnCc_k1hAXgpR_irYWPQz1kVNYxWAkGonByTYBDVXNWk0C0ZSsRyaPuzgrmKlOSyIl8msiRkhSYTLdFJm9s/file [following]\n",
            "--2021-03-14 11:45:47--  https://uca29d031e1481ee254372db8774.dl.dropboxusercontent.com/cd/0/inline2/BKraWVZmccM5s0qeDestLaNYkl6KxfK0HS7_ddl8_cUxcXXot94SSL42VwSv7_vRx07zB4maSn1oQz1dBnlZvBNuze_BTVKUqJQSGCnExDqd6Ov8v0keIlj2_B_U1GKqzchqDsEoLbbikg1o4m_GLjCLVFrmZL8Ysrpqh0KufFZcJlTx8hkiji05UN8Il0g-fcUdJ_alCjuwZjSHq2rckb4ppHNE6Qg2eGn6EFnepYm0vnwOlo8rj23n-ITDl6aHia1irKnBrn1dYJBxQq-ClYK_cUdM5EUsAzobqKKvcV33BgRSEnCc_k1hAXgpR_irYWPQz1kVNYxWAkGonByTYBDVXNWk0C0ZSsRyaPuzgrmKlOSyIl8msiRkhSYTLdFJm9s/file\n",
            "Reusing existing connection to uca29d031e1481ee254372db8774.dl.dropboxusercontent.com:443.\n",
            "HTTP request sent, awaiting response... 200 OK\n",
            "Length: 230789182 (220M) [application/zip]\n",
            "Saving to: ‘proSR.zip’\n",
            "\n",
            "proSR.zip           100%[===================>] 220.10M   113MB/s    in 1.9s    \n",
            "\n",
            "2021-03-14 11:45:50 (113 MB/s) - ‘proSR.zip’ saved [230789182/230789182]\n",
            "\n",
            "Archive:  proSR.zip\n",
            "  inflating: data/checkpoints/proSR_x4.pth  \n",
            "  inflating: data/checkpoints/proSR_x8.pth  \n",
            "  inflating: data/checkpoints/proSR_x2.pth  \n",
            "  inflating: data/checkpoints/proSR.pth  \n"
          ],
          "name": "stdout"
        }
      ]
    },
    {
      "cell_type": "markdown",
      "metadata": {
        "id": "5Mwms_vuJdNu"
      },
      "source": [
        "Light Model, high speed"
      ]
    },
    {
      "cell_type": "code",
      "metadata": {
        "id": "xDyCBk3XJdtF",
        "colab": {
          "base_uri": "https://localhost:8080/"
        },
        "outputId": "12088e68-c8ce-4409-8ee5-cbe68bd84d70"
      },
      "source": [
        "!wget -nc https://www.dropbox.com/s/ldv397lcr3vn95w/proSRs.zip -O proSRs.zip\n",
        "!unzip -j proSRs.zip -d data/checkpoints\n",
        "!rm proSRs.zip"
      ],
      "execution_count": null,
      "outputs": [
        {
          "output_type": "stream",
          "text": [
            "--2021-03-14 11:38:12--  https://www.dropbox.com/s/ldv397lcr3vn95w/proSRs.zip\n",
            "Resolving www.dropbox.com (www.dropbox.com)... 162.125.1.18, 2620:100:601a:18::a27d:712\n",
            "Connecting to www.dropbox.com (www.dropbox.com)|162.125.1.18|:443... connected.\n",
            "HTTP request sent, awaiting response... 301 Moved Permanently\n",
            "Location: /s/raw/ldv397lcr3vn95w/proSRs.zip [following]\n",
            "--2021-03-14 11:38:12--  https://www.dropbox.com/s/raw/ldv397lcr3vn95w/proSRs.zip\n",
            "Reusing existing connection to www.dropbox.com:443.\n",
            "HTTP request sent, awaiting response... 302 Found\n",
            "Location: https://uc1d74c31125b68f5d1bfa1ed134.dl.dropboxusercontent.com/cd/0/inline/BKpEhwrQ201dgY2WN64r21EXQF35vNneyZm_iDF8Vwa1CxjNH4wiAQc51RVlKietw5TdS0aQ-tu_FRe9NUYhOa8CuUn_VLYSjIYmRRfIqBFYJ0xSjxGkGmhMexcJe4lZqYtixnhzUKMRRIiUfXK2b4hg/file# [following]\n",
            "--2021-03-14 11:38:13--  https://uc1d74c31125b68f5d1bfa1ed134.dl.dropboxusercontent.com/cd/0/inline/BKpEhwrQ201dgY2WN64r21EXQF35vNneyZm_iDF8Vwa1CxjNH4wiAQc51RVlKietw5TdS0aQ-tu_FRe9NUYhOa8CuUn_VLYSjIYmRRfIqBFYJ0xSjxGkGmhMexcJe4lZqYtixnhzUKMRRIiUfXK2b4hg/file\n",
            "Resolving uc1d74c31125b68f5d1bfa1ed134.dl.dropboxusercontent.com (uc1d74c31125b68f5d1bfa1ed134.dl.dropboxusercontent.com)... 162.125.1.15, 2620:100:601a:15::a27d:70f\n",
            "Connecting to uc1d74c31125b68f5d1bfa1ed134.dl.dropboxusercontent.com (uc1d74c31125b68f5d1bfa1ed134.dl.dropboxusercontent.com)|162.125.1.15|:443... connected.\n",
            "HTTP request sent, awaiting response... 302 Found\n",
            "Location: /cd/0/inline2/BKrFCBZ8M6JrE50vhWgLCxA-Gls3Ngevqi91moQgXIZCCqheij-lqBnN3SXfBSkSnE1vxyC-ZEnpPeBXCIps0WRFbRs4ZBKAGa0rUuIF9v99w9mZ3dKavmXhF-JATwLvxo7KWN7KHR97EDY7nkV3VA8Emj18lGEj9sV5Z-f_VUyY5v0l7rqaCCeR2Mk5-BLXIDICLiZhsLp9IILhksRgMcevXZqHSu6phOmHgR07YwJl6dOnUciVwsqGGlpZPSHIuRI081JiTHMkUDrmD4R2EvCow--g1VfMSJCrkXze6s6gpBzDvslpcQV1TnBBYb5G55GZmo0mwNxllfxxeEU_EmJOAI33jBbxJYVIXlHijEg95K9fmKRGCYnQOVqxahcsnxY/file [following]\n",
            "--2021-03-14 11:38:13--  https://uc1d74c31125b68f5d1bfa1ed134.dl.dropboxusercontent.com/cd/0/inline2/BKrFCBZ8M6JrE50vhWgLCxA-Gls3Ngevqi91moQgXIZCCqheij-lqBnN3SXfBSkSnE1vxyC-ZEnpPeBXCIps0WRFbRs4ZBKAGa0rUuIF9v99w9mZ3dKavmXhF-JATwLvxo7KWN7KHR97EDY7nkV3VA8Emj18lGEj9sV5Z-f_VUyY5v0l7rqaCCeR2Mk5-BLXIDICLiZhsLp9IILhksRgMcevXZqHSu6phOmHgR07YwJl6dOnUciVwsqGGlpZPSHIuRI081JiTHMkUDrmD4R2EvCow--g1VfMSJCrkXze6s6gpBzDvslpcQV1TnBBYb5G55GZmo0mwNxllfxxeEU_EmJOAI33jBbxJYVIXlHijEg95K9fmKRGCYnQOVqxahcsnxY/file\n",
            "Reusing existing connection to uc1d74c31125b68f5d1bfa1ed134.dl.dropboxusercontent.com:443.\n",
            "HTTP request sent, awaiting response... 200 OK\n",
            "Length: 37919961 (36M) [application/zip]\n",
            "Saving to: ‘proSRs.zip’\n",
            "\n",
            "proSRs.zip          100%[===================>]  36.16M  66.6MB/s    in 0.5s    \n",
            "\n",
            "2021-03-14 11:38:14 (66.6 MB/s) - ‘proSRs.zip’ saved [37919961/37919961]\n",
            "\n",
            "Archive:  proSRs.zip\n",
            "replace data/checkpoints/proSRs.pth? [y]es, [n]o, [A]ll, [N]one, [r]ename: n\n",
            "replace data/checkpoints/proSRs_x2.pth? [y]es, [n]o, [A]ll, [N]one, [r]ename: n\n",
            "replace data/checkpoints/proSRs_x8.pth? [y]es, [n]o, [A]ll, [N]one, [r]ename: n\n",
            "replace data/checkpoints/proSRs_x4.pth? [y]es, [n]o, [A]ll, [N]one, [r]ename: n\n"
          ],
          "name": "stdout"
        }
      ]
    },
    {
      "cell_type": "markdown",
      "metadata": {
        "id": "qOx79EYpJfMy"
      },
      "source": [
        "Model with an adversarial loss"
      ]
    },
    {
      "cell_type": "code",
      "metadata": {
        "id": "0kUwLnoYJfkC",
        "colab": {
          "base_uri": "https://localhost:8080/"
        },
        "outputId": "d920b285-36ee-4ca0-b5d7-91401a44237e"
      },
      "source": [
        "!wget -nc https://www.dropbox.com/s/ulkvm4yt5v3vxd8/proSRGAN.zip -O proSRGAN.zip\n",
        "!unzip -j proSRGAN.zip -d data/checkpoints\n",
        "!rm proSRGAN.zip"
      ],
      "execution_count": null,
      "outputs": [
        {
          "output_type": "stream",
          "text": [
            "--2021-03-14 11:45:58--  https://www.dropbox.com/s/ulkvm4yt5v3vxd8/proSRGAN.zip\n",
            "Resolving www.dropbox.com (www.dropbox.com)... 162.125.6.18, 2620:100:6019:18::a27d:412\n",
            "Connecting to www.dropbox.com (www.dropbox.com)|162.125.6.18|:443... connected.\n",
            "HTTP request sent, awaiting response... 301 Moved Permanently\n",
            "Location: /s/raw/ulkvm4yt5v3vxd8/proSRGAN.zip [following]\n",
            "--2021-03-14 11:45:58--  https://www.dropbox.com/s/raw/ulkvm4yt5v3vxd8/proSRGAN.zip\n",
            "Reusing existing connection to www.dropbox.com:443.\n",
            "HTTP request sent, awaiting response... 302 Found\n",
            "Location: https://ucf888cafa415fa4bd1a34db678e.dl.dropboxusercontent.com/cd/0/inline/BKpghodA8tmr1BuB10_ecx_TOfROzLz4fLSwHGvrvhNMjg4LLj_60Xfe8ZcB95dwlfpTi_Rf9YryXZWmUtMBUyxpzdWD1PkjY4cFIcizEhwrDkyXlhNT2qASBFD5d-BRi8n8W5ffiTpOCLiZOw1VSLWg/file# [following]\n",
            "--2021-03-14 11:45:58--  https://ucf888cafa415fa4bd1a34db678e.dl.dropboxusercontent.com/cd/0/inline/BKpghodA8tmr1BuB10_ecx_TOfROzLz4fLSwHGvrvhNMjg4LLj_60Xfe8ZcB95dwlfpTi_Rf9YryXZWmUtMBUyxpzdWD1PkjY4cFIcizEhwrDkyXlhNT2qASBFD5d-BRi8n8W5ffiTpOCLiZOw1VSLWg/file\n",
            "Resolving ucf888cafa415fa4bd1a34db678e.dl.dropboxusercontent.com (ucf888cafa415fa4bd1a34db678e.dl.dropboxusercontent.com)... 162.125.7.15, 2620:100:6019:15::a27d:40f\n",
            "Connecting to ucf888cafa415fa4bd1a34db678e.dl.dropboxusercontent.com (ucf888cafa415fa4bd1a34db678e.dl.dropboxusercontent.com)|162.125.7.15|:443... connected.\n",
            "HTTP request sent, awaiting response... 302 Found\n",
            "Location: /cd/0/inline2/BKpoZBbqUt36VFkJLlVcUw0bOBK14TvABmQdkJ_Yfl7tI18Wt7f0eJE1xCxf3NRBVUWIhLJDRWR__3xku5UyAT133WPa577bim_c-J6i68T-87eKH0TsD1TsHYDwvxusYj4bl9zW9AVgFEthppPpgXGfj0G4jPJZIEs1WGjmRgq5lx26SneXtUFxA9FyyPZMlcIXRXYzmA5sUxEnItMignTGNMqIHADmXGlaDCehtrj3Er7DsCkH9Pjm9Mk-GXJ4bIcmoWcd7ldM1Iq6TNbSazlgf-bRH8GelDwtIb3BOZu_6FsAu9Ycmzu1TcMho-Dz4YucgPyosxPCANYpSt0WVst5jHppiCcex7_kCvMg1Mk8WtZ8jrfFySfWqDJPsQdtoxE/file [following]\n",
            "--2021-03-14 11:45:59--  https://ucf888cafa415fa4bd1a34db678e.dl.dropboxusercontent.com/cd/0/inline2/BKpoZBbqUt36VFkJLlVcUw0bOBK14TvABmQdkJ_Yfl7tI18Wt7f0eJE1xCxf3NRBVUWIhLJDRWR__3xku5UyAT133WPa577bim_c-J6i68T-87eKH0TsD1TsHYDwvxusYj4bl9zW9AVgFEthppPpgXGfj0G4jPJZIEs1WGjmRgq5lx26SneXtUFxA9FyyPZMlcIXRXYzmA5sUxEnItMignTGNMqIHADmXGlaDCehtrj3Er7DsCkH9Pjm9Mk-GXJ4bIcmoWcd7ldM1Iq6TNbSazlgf-bRH8GelDwtIb3BOZu_6FsAu9Ycmzu1TcMho-Dz4YucgPyosxPCANYpSt0WVst5jHppiCcex7_kCvMg1Mk8WtZ8jrfFySfWqDJPsQdtoxE/file\n",
            "Reusing existing connection to ucf888cafa415fa4bd1a34db678e.dl.dropboxusercontent.com:443.\n",
            "HTTP request sent, awaiting response... 200 OK\n",
            "Length: 115286048 (110M) [application/zip]\n",
            "Saving to: ‘proSRGAN.zip’\n",
            "\n",
            "proSRGAN.zip        100%[===================>] 109.95M  38.8MB/s    in 2.8s    \n",
            "\n",
            "2021-03-14 11:46:03 (38.8 MB/s) - ‘proSRGAN.zip’ saved [115286048/115286048]\n",
            "\n",
            "Archive:  proSRGAN.zip\n",
            "  inflating: data/checkpoints/proSRGAN_x4.pth  \n",
            "  inflating: data/checkpoints/proSRGAN_x8.pth  \n"
          ],
          "name": "stdout"
        }
      ]
    },
    {
      "cell_type": "markdown",
      "metadata": {
        "id": "ljMdxv7WKp3U"
      },
      "source": [
        "*Choose model*"
      ]
    },
    {
      "cell_type": "code",
      "metadata": {
        "id": "bs3weeShKup8",
        "colab": {
          "base_uri": "https://localhost:8080/"
        },
        "outputId": "dbe6c846-c4ce-48ec-86b0-fc572ab02ace"
      },
      "source": [
        "%cd data/checkpoints/\n",
        "!ls\n",
        "%cd ..\n",
        "%cd .."
      ],
      "execution_count": null,
      "outputs": [
        {
          "output_type": "stream",
          "text": [
            "/content/proSR/data/checkpoints\n",
            "proSRGAN_x4.pth  proSR.pth     proSR_x4.pth\n",
            "proSRGAN_x8.pth  proSR_x2.pth  proSR_x8.pth\n",
            "/content/proSR/data\n",
            "/content/proSR\n"
          ],
          "name": "stdout"
        }
      ]
    },
    {
      "cell_type": "code",
      "metadata": {
        "colab": {
          "base_uri": "https://localhost:8080/"
        },
        "id": "DSSGNie6j11r",
        "outputId": "737d8fd8-3992-4d4d-c7ab-1cda0f2dc5aa"
      },
      "source": [
        "!mv /content/proSR/lib/prosr /content/proSR/"
      ],
      "execution_count": null,
      "outputs": [
        {
          "output_type": "stream",
          "text": [
            "mv: cannot stat '/content/proSR/lib/prosr': No such file or directory\n"
          ],
          "name": "stdout"
        }
      ]
    },
    {
      "cell_type": "markdown",
      "metadata": {
        "id": "ZLyjdFtIHkY2"
      },
      "source": [
        "# **Upscaling**"
      ]
    },
    {
      "cell_type": "code",
      "metadata": {
        "id": "gxJm6fR2FmNv",
        "colab": {
          "base_uri": "https://localhost:8080/"
        },
        "outputId": "19372bf0-76b7-4483-c84d-65d9a89eb54f"
      },
      "source": [
        "#scale : output size 2x, 4x, 8x\n",
        "\n",
        "#-i is path of input image\n",
        "\n",
        "#-o is path of output image\n",
        "\n",
        "#-c is checkpoint or trained model path\n",
        "\n",
        "!python test.py -i '/content/proSR/tom_and_jerry_PNG72.png' --checkpoint 'data/checkpoints/proSR_x2.pth' --scale 2 -o outputs"
      ],
      "execution_count": null,
      "outputs": [
        {
          "output_type": "stream",
          "text": [
            "\u001b[0;97m2021-03-14 12:03:41: phase: phase.TEST\u001b[0;97m\u001b[0m\n",
            "\u001b[0;97m2021-03-14 12:03:41: checkpoint: proSR_x2.pth\u001b[0;97m\u001b[0m\n",
            "{'G': {'bn_size': 4,\n",
            "       'growth_rate': 40,\n",
            "       'level_compression': -1,\n",
            "       'level_config': [[8, 8, 8, 8, 8, 8, 8, 8, 8], [8, 8, 8], [8]],\n",
            "       'max_num_feature': 312,\n",
            "       'max_scale': 8,\n",
            "       'num_init_features': 160,\n",
            "       'ps_woReLU': False,\n",
            "       'res_factor': 0.2,\n",
            "       'residual_denseblock': True},\n",
            " 'cmd': {'checkpoint': None,\n",
            "         'config': None,\n",
            "         'model': 'prosr',\n",
            "         'no_curriculum': False,\n",
            "         'output': 'data/checkpoints/proSR-flickr',\n",
            "         'seed': 128,\n",
            "         'visdom': True,\n",
            "         'visdom_port': 2002},\n",
            " 'data': {'input_size': [48, 36, 24], 'scale': [2, 4, 8]},\n",
            " 'test': {'dataset': {'downscale': False,\n",
            "                      'mean': [0.4488, 0.4371, 0.404],\n",
            "                      'path': {'source': '', 'target': 'data/datasets/Set14'},\n",
            "                      'stddev': [0.0039215, 0.0039215, 0.0039215]},\n",
            "          'fast_validation': -1},\n",
            " 'train': {'batch_size': 16,\n",
            "           'dataset': {'downscale': False,\n",
            "                       'mean': [0.4488, 0.4371, 0.404],\n",
            "                       'path': {'source': '',\n",
            "                                'target': 'data/datasets/Ensemble/**'},\n",
            "                       'stddev': [0.0039215, 0.0039215, 0.0039215]},\n",
            "           'epochs': 500,\n",
            "           'growing_steps': [0.12, 0.25, 0.45, 0.6, 1.0],\n",
            "           'io': {'eval_epoch_freq': 10,\n",
            "                  'print_errors_freq': 100,\n",
            "                  'save_model_freq': 20},\n",
            "           'l1_loss_weight': 1.0,\n",
            "           'lr': 0.0001,\n",
            "           'lr_decay': 0.5,\n",
            "           'lr_schedule_patience': 30,\n",
            "           'smallest_lr': 1e-05}}\n",
            "\u001b[0;97m2021-03-14 12:03:41: Saving images in: outputs\u001b[0;97m\u001b[0m\n",
            "THCudaCheck FAIL file=/pytorch/aten/src/THC/THCGeneral.cpp line=663 error=11 : invalid argument\n",
            "Traceback (most recent call last):\n",
            "  File \"test.py\", line 155, in <module>\n",
            "    sr_img = tensor2im(output, mean, stddev)\n",
            "  File \"/content/proSR/prosr/utils/misc.py\", line 46, in tensor2im\n",
            "    image_numpy = image_tensor[0].cpu().float().numpy()\n",
            "RuntimeError: PyTorch was compiled without NumPy support\n"
          ],
          "name": "stdout"
        }
      ]
    },
    {
      "cell_type": "code",
      "metadata": {
        "id": "Uo_iyBXCLDCC"
      },
      "source": [
        ""
      ],
      "execution_count": null,
      "outputs": []
    }
  ]
}